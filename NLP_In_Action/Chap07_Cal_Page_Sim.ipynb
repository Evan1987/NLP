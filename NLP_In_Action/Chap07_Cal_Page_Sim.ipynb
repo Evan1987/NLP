{
 "cells": [
  {
   "cell_type": "code",
   "execution_count": 1,
   "metadata": {},
   "outputs": [
    {
     "name": "stderr",
     "output_type": "stream",
     "text": [
      "C:\\ProgramData\\Anaconda3\\lib\\site-packages\\gensim\\utils.py:1212: UserWarning: detected Windows; aliasing chunkize to chunkize_serial\n",
      "  warnings.warn(\"detected Windows; aliasing chunkize to chunkize_serial\")\n"
     ]
    }
   ],
   "source": [
    "import numpy as np\n",
    "import gensim\n",
    "import jieba\n",
    "import codecs\n",
    "from jieba import analyse\n",
    "from _utils import u_constant\n",
    "\n",
    "root_path = u_constant.PATH_ROOT + \"for learn/Python/NLP_in_Action/chapter-7/\"\n",
    "WV_MODEL_PATH = root_path + \"word2vec/zhwiki.word2vec\"\n",
    "DV_MODEL_PATH = root_path + \"doc2vec/zhwiki.doc2vec\"\n",
    "P1_PATH = root_path + \"data/p1.txt\"\n",
    "P2_PATH = root_path + \"data/p2.txt\""
   ]
  },
  {
   "cell_type": "code",
   "execution_count": 2,
   "metadata": {},
   "outputs": [],
   "source": [
    "def cal_sim(u, v):\n",
    "    u = np.asarray(u)\n",
    "    v = np.asarray(v)\n",
    "    norm_u = np.linalg.norm(u, 2)\n",
    "    norm_v = np.linalg.norm(v, 2)\n",
    "    if norm_u == 0 or norm_v == 0:\n",
    "        return 0.0\n",
    "    else:\n",
    "        return u.dot(v) / (norm_u * norm_v)"
   ]
  },
  {
   "cell_type": "markdown",
   "metadata": {},
   "source": [
    "## 利用Word2Vec计算网页相似度"
   ]
  },
  {
   "cell_type": "code",
   "execution_count": 5,
   "metadata": {},
   "outputs": [],
   "source": [
    "class doc2vec_by_wv:\n",
    "    def __init__(self, model_path):\n",
    "        self.model = gensim.models.Word2Vec.load(model_path)\n",
    "        self.vector_size = self.model.vector_size\n",
    "        \n",
    "    def extract_keywords(self, data_path):\n",
    "        \"\"\"\n",
    "        解析目标文件，针对每行提取关键词\n",
    "        :param data_path: 目标文件路径\n",
    "        :return: 文件的关键词generator\n",
    "        \"\"\"\n",
    "        with codecs.open(data_path, \"r\", encoding=\"utf-8\") as in_f:\n",
    "            for data in in_f:\n",
    "                data = data.strip()\n",
    "                keywords = analyse.extract_tags(data)\n",
    "                for keyword in keywords:\n",
    "                    yield keyword\n",
    "    \n",
    "    def transform(self, data_path):\n",
    "        \"\"\"\n",
    "        获取目标语料的词袋向量\n",
    "        \"\"\"\n",
    "        keywords = self.extract_keywords(data_path)\n",
    "        result = np.zeros(self.vector_size)\n",
    "        \n",
    "        for word in keywords:\n",
    "            try:\n",
    "                vec = self.model[word]\n",
    "                result += vec\n",
    "            except KeyError:\n",
    "                continue\n",
    "        return result\n",
    "        "
   ]
  },
  {
   "cell_type": "code",
   "execution_count": 6,
   "metadata": {},
   "outputs": [
    {
     "name": "stdout",
     "output_type": "stream",
     "text": [
      "0.9473998005928956\n"
     ]
    },
    {
     "name": "stderr",
     "output_type": "stream",
     "text": [
      "C:\\ProgramData\\Anaconda3\\lib\\site-packages\\ipykernel_launcher.py:28: DeprecationWarning: Call to deprecated `__getitem__` (Method will be removed in 4.0.0, use self.wv.__getitem__() instead).\n"
     ]
    }
   ],
   "source": [
    "dv_by_wv = doc2vec_by_wv(WV_MODEL_PATH)\n",
    "p1vec = dv_by_wv.transform(P1_PATH)\n",
    "p2vec = dv_by_wv.transform(P2_PATH)\n",
    "print(cal_sim(p1vec, p2vec))"
   ]
  },
  {
   "cell_type": "markdown",
   "metadata": {},
   "source": [
    "## 利用Doc2Vec计算网页相似度"
   ]
  },
  {
   "cell_type": "code",
   "execution_count": 20,
   "metadata": {},
   "outputs": [],
   "source": [
    "class doc2vec_by_dv:\n",
    "    def __init__(self, model_path, start_alpha, infer_epoch):\n",
    "        self.model = gensim.models.Doc2Vec.load(model_path)\n",
    "        self.alpha = start_alpha\n",
    "        self.steps = infer_epoch\n",
    "        \n",
    "    def get_doc(self, data_path):\n",
    "        \"\"\"\n",
    "        读取目标文件的每个词\n",
    "        \"\"\"\n",
    "        with codecs.open(data_path, \"r\", encoding=\"utf-8\") as f:\n",
    "            for line in f:\n",
    "                line = line.strip()\n",
    "                for word in jieba.cut(line):\n",
    "                    yield word\n",
    "    \n",
    "    def transform(self, data_path):\n",
    "        words = list(self.get_doc(data_path))\n",
    "        return self.model.infer_vector(words, alpha=self.alpha, steps=self.steps)\n",
    "        "
   ]
  },
  {
   "cell_type": "code",
   "execution_count": 21,
   "metadata": {},
   "outputs": [
    {
     "name": "stderr",
     "output_type": "stream",
     "text": [
      "C:\\ProgramData\\Anaconda3\\lib\\site-packages\\gensim\\models\\doc2vec.py:566: UserWarning: The parameter `iter` is deprecated, will be removed in 4.0.0, use `epochs` instead.\n",
      "  warnings.warn(\"The parameter `iter` is deprecated, will be removed in 4.0.0, use `epochs` instead.\")\n",
      "C:\\ProgramData\\Anaconda3\\lib\\site-packages\\gensim\\models\\doc2vec.py:570: UserWarning: The parameter `size` is deprecated, will be removed in 4.0.0, use `vector_size` instead.\n",
      "  warnings.warn(\"The parameter `size` is deprecated, will be removed in 4.0.0, use `vector_size` instead.\")\n"
     ]
    },
    {
     "name": "stdout",
     "output_type": "stream",
     "text": [
      "0.6411267\n"
     ]
    }
   ],
   "source": [
    "dv_by_dv = doc2vec_by_dv(DV_MODEL_PATH, 0.01, 1000)\n",
    "p1vec = dv_by_dv.transform(P1_PATH)\n",
    "p2vec = dv_by_dv.transform(P2_PATH)\n",
    "print(cal_sim(p1vec, p2vec))"
   ]
  }
 ],
 "metadata": {
  "kernelspec": {
   "display_name": "Python 3",
   "language": "python",
   "name": "python3"
  },
  "language_info": {
   "codemirror_mode": {
    "name": "ipython",
    "version": 3
   },
   "file_extension": ".py",
   "mimetype": "text/x-python",
   "name": "python",
   "nbconvert_exporter": "python",
   "pygments_lexer": "ipython3",
   "version": "3.6.5"
  }
 },
 "nbformat": 4,
 "nbformat_minor": 2
}
