{
 "cells": [
  {
   "cell_type": "code",
   "execution_count": 31,
   "metadata": {},
   "outputs": [],
   "source": [
    "import numpy as np\n",
    "import pandas as pd\n",
    "from sklearn.model_selection import train_test_split\n",
    "from sklearn.naive_bayes import MultinomialNB\n",
    "from sklearn.linear_model import LogisticRegression, SGDClassifier\n",
    "from sklearn.metrics import recall_score, precision_score, f1_score, accuracy_score\n",
    "from _utils import u_constant\n",
    "path = u_constant.PATH_ROOT + \"for learn/Python/NLP_in_Action/chapter-9/classification/\"\n",
    "ham_path = path + \"data/ham_data.txt\"\n",
    "spam_path = path + \"data/spam_data.txt\""
   ]
  },
  {
   "cell_type": "code",
   "execution_count": 23,
   "metadata": {},
   "outputs": [],
   "source": [
    "def load_data_with_label(file_path, label):\n",
    "    \"\"\"\n",
    "     加载数据，并赋予标签\n",
    "    :param file_path: 文件路径\n",
    "    :param label: 待赋予的标签\n",
    "    \"\"\"\n",
    "    corpus = []\n",
    "    with open(file_path, \"r\", encoding=\"utf-8\") as f:\n",
    "        for line in f:\n",
    "            line = line.strip()\n",
    "            if len(line) > 0:\n",
    "                corpus.append(line)\n",
    "        f.close()\n",
    "    data = pd.DataFrame(corpus, columns=[\"text\"])\n",
    "    data[\"label\"] = label\n",
    "    return data"
   ]
  },
  {
   "cell_type": "code",
   "execution_count": 9,
   "metadata": {},
   "outputs": [],
   "source": [
    "def get_data():\n",
    "    \"\"\"\n",
    "    分别load正例样本和负例样本，组装输出\n",
    "    \"\"\"\n",
    "    ham_data = load_data_with_label(ham_path, 1)\n",
    "    spam_data = load_data_with_label(spam_path, 0)\n",
    "    data = pd.concat([ham_data, spam_data], axis=0, ignore_index=True)\n",
    "    return data        "
   ]
  },
  {
   "cell_type": "code",
   "execution_count": 35,
   "metadata": {},
   "outputs": [],
   "source": [
    "class Treat:\n",
    "    import string\n",
    "    import re\n",
    "    import jieba\n",
    "    from sklearn.feature_extraction.text import CountVectorizer, TfidfVectorizer\n",
    "    \n",
    "    def __init__(self, feature_extract_method=\"tfidf\", min_df=1, ngram_range=(1, 1)):\n",
    "        self.stopword_list = self.__load_stop_word()\n",
    "        self.invalid_pattern = re.compile(\"[{}]\".format(re.escape(string.punctuation)))\n",
    "        self.extract_method = self.__identify_method(feature_extract_method.lower())\n",
    "        self.min_df = min_df\n",
    "        self.ngram_range = ngram_range\n",
    "    \n",
    "    def __identify_method(self, s):\n",
    "        \"\"\"\n",
    "        识别抽取方法\n",
    "        \"\"\"\n",
    "        if s in [\"tfidf\", \"tf-idf\", \"tf_idf\"]:\n",
    "            return \"tfidf\"\n",
    "        return \"bow\"\n",
    "        \n",
    "    def __load_stop_word(self):\n",
    "        with open(path + \"dict/stop_words.utf8\", encoding=\"utf-8\") as f:\n",
    "            stopword_list = f.readlines()\n",
    "            f.close()\n",
    "        return stopword_list\n",
    "    \n",
    "    def preprocess(self, text):\n",
    "        # 去除特殊符号\n",
    "        text = self.invalid_pattern.sub(\"\", text)\n",
    "        # 分词 & 去停用词\n",
    "        tokens = [token.strip() for token in jieba.cut(text) \\\n",
    "                  if token.strip() not in self.stopword_list]\n",
    "        return \" \".join(tokens)\n",
    "    \n",
    "    def fit_transform(self, corpus):\n",
    "        \"\"\"\n",
    "        处理输入的语料，输出向量化矩阵\n",
    "        \"\"\"\n",
    "        normed_data = list(map(self.preprocess, corpus))\n",
    "        if self.extract_method == \"bow\":\n",
    "            self.vec = CountVectorizer(min_df=self.min_df, ngram_range=self.ngram_range)\n",
    "        elif self.extract_method == \"tfidf\":\n",
    "            self.vec = TfidfVectorizer(min_df=self.min_df, ngram_range=self.ngram_range)\n",
    "        features = self.vec.fit_transform(normed_data)\n",
    "        return features\n",
    "    \n",
    "    def transform(self, corpus):\n",
    "        normed_data = list(map(self.preprocess, corpus))\n",
    "        return self.vec.transform(normed_data)\n",
    "        "
   ]
  },
  {
   "cell_type": "code",
   "execution_count": 33,
   "metadata": {},
   "outputs": [],
   "source": [
    "data = get_data()\n",
    "X = data[\"text\"].values\n",
    "y = data[\"label\"].values\n",
    "X_train, X_test, y_train, y_test = train_test_split(X, y, test_size=0.3, random_state=42)"
   ]
  },
  {
   "cell_type": "code",
   "execution_count": 38,
   "metadata": {},
   "outputs": [
    {
     "name": "stdout",
     "output_type": "stream",
     "text": [
      "-------------------------------------------\n",
      "--------------bow based-------------\n",
      "mnb model\n",
      "Acc: 0.99\tPrecision: 0.98\tRecall: 0.99\tF1: 0.99\n",
      "svm model\n",
      "Acc: 0.98\tPrecision: 0.99\tRecall: 0.97\tF1: 0.98\n",
      "lr model\n",
      "Acc: 0.99\tPrecision: 1.00\tRecall: 0.98\tF1: 0.99\n",
      "-------------------------------------------\n",
      "--------------tfidf based-------------\n",
      "mnb model\n",
      "Acc: 0.99\tPrecision: 0.98\tRecall: 0.99\tF1: 0.99\n",
      "svm model\n",
      "Acc: 0.99\tPrecision: 0.99\tRecall: 0.99\tF1: 0.99\n",
      "lr model\n",
      "Acc: 0.99\tPrecision: 0.98\tRecall: 0.99\tF1: 0.99\n"
     ]
    }
   ],
   "source": [
    "extract_methods = [\"bow\", \"tfidf\"]\n",
    "models = [\"mnb\", \"svm\", \"lr\"]\n",
    "min_df = 1\n",
    "ngram_range = (1, 1)\n",
    "for extract_method in extract_methods:\n",
    "    treat = Treat(extract_method, min_df, ngram_range)\n",
    "    train = treat.fit_transform(X_train)\n",
    "    test = treat.transform(X_test)\n",
    "    print(\"-------------------------------------------\")\n",
    "    print(\"--------------%s based-------------\" % extract_method)\n",
    "    for model in models:\n",
    "        if model == \"mnb\":\n",
    "            m = MultinomialNB()\n",
    "        elif model == \"svm\":\n",
    "            m = SGDClassifier(loss=\"hinge\", n_iter=100)\n",
    "        elif model == \"lr\":\n",
    "            m = LogisticRegression()\n",
    "        m.fit(train, y_train)\n",
    "        y_pred = m.predict(test)\n",
    "        acc = accuracy_score(y_test, y_pred)\n",
    "        recall = recall_score(y_test, y_pred)\n",
    "        precision = precision_score(y_test, y_pred)\n",
    "        f1 = f1_score(y_test, y_pred)\n",
    "        print(\"%s model\" % model)\n",
    "        print(\"Acc: %.2f\\tPrecision: %.2f\\tRecall: %.2f\\tF1: %.2f\" \\\n",
    "              % (acc, precision, recall, f1))"
   ]
  }
 ],
 "metadata": {
  "kernelspec": {
   "display_name": "Python 3",
   "language": "python",
   "name": "python3"
  },
  "language_info": {
   "codemirror_mode": {
    "name": "ipython",
    "version": 3
   },
   "file_extension": ".py",
   "mimetype": "text/x-python",
   "name": "python",
   "nbconvert_exporter": "python",
   "pygments_lexer": "ipython3",
   "version": "3.6.5"
  }
 },
 "nbformat": 4,
 "nbformat_minor": 2
}
