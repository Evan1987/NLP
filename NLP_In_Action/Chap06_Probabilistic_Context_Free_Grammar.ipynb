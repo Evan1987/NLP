{
 "cells": [
  {
   "cell_type": "markdown",
   "metadata": {},
   "source": [
    "## 使用Standford Parser的PCFG算法进行句法分析"
   ]
  },
  {
   "cell_type": "code",
   "execution_count": 1,
   "metadata": {},
   "outputs": [],
   "source": [
    "import jieba\n",
    "from nltk.parse import stanford\n",
    "import os\n",
    "import jieba\n",
    "from _utils import u_constant\n",
    "path = u_constant.PATH_ROOT + \"for learn/Python/NLP_in_Action/chapter-6/stanford-parser-full-2018-10-17/\"\n",
    "parser_path = path + \"stanford-parser.jar\"\n",
    "model_path = path + \"stanford-parser-3.9.2-models.jar\"\n",
    "pcfg_path = path + \"stanford-parser-3.9.2-models/edu/stanford/nlp/models/lexparser/chinesePCFG.ser.gz\""
   ]
  },
  {
   "cell_type": "code",
   "execution_count": 2,
   "metadata": {},
   "outputs": [
    {
     "name": "stderr",
     "output_type": "stream",
     "text": [
      "C:\\ProgramData\\Anaconda3\\lib\\site-packages\\ipykernel_launcher.py:4: DeprecationWarning: The StanfordParser will be deprecated\n",
      "Please use \u001b[91mnltk.parse.corenlp.StanforCoreNLPParser\u001b[0m instead.\n",
      "  after removing the cwd from sys.path.\n"
     ]
    }
   ],
   "source": [
    "parser = stanford.StanfordParser(\n",
    "    path_to_jar=parser_path, \n",
    "    path_to_models_jar=model_path, \n",
    "    model_path=pcfg_path\n",
    ")"
   ]
  },
  {
   "cell_type": "code",
   "execution_count": 3,
   "metadata": {},
   "outputs": [
    {
     "name": "stderr",
     "output_type": "stream",
     "text": [
      "Building prefix dict from the default dictionary ...\n",
      "Loading model from cache C:\\Users\\Cigar\\AppData\\Local\\Temp\\jieba.cache\n",
      "Loading model cost 0.878 seconds.\n",
      "Prefix dict has been built succesfully.\n"
     ]
    },
    {
     "name": "stdout",
     "output_type": "stream",
     "text": [
      "他 骑 自行车 去 了 菜市场\n"
     ]
    }
   ],
   "source": [
    "string = \"他骑自行车去了菜市场\"\n",
    "seg_str = \" \".join(jieba.cut(string))\n",
    "print(seg_str)"
   ]
  },
  {
   "cell_type": "code",
   "execution_count": null,
   "metadata": {},
   "outputs": [
    {
     "name": "stdout",
     "output_type": "stream",
     "text": [
      "(ROOT\n",
      "  (IP\n",
      "    (NP (PN 他))\n",
      "    (VP (VP (VV 骑) (NP (NN 自行车))) (VP (VV 去) (AS 了) (NP (NN 菜市场))))))\n"
     ]
    }
   ],
   "source": [
    "sentence = parser.raw_parse(seg_str)\n",
    "for line in sentence:\n",
    "    print(line)\n",
    "    line.draw()"
   ]
  }
 ],
 "metadata": {
  "kernelspec": {
   "display_name": "Python 3",
   "language": "python",
   "name": "python3"
  },
  "language_info": {
   "codemirror_mode": {
    "name": "ipython",
    "version": 3
   },
   "file_extension": ".py",
   "mimetype": "text/x-python",
   "name": "python",
   "nbconvert_exporter": "python",
   "pygments_lexer": "ipython3",
   "version": "3.6.5"
  }
 },
 "nbformat": 4,
 "nbformat_minor": 2
}
