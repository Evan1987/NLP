{
 "cells": [
  {
   "cell_type": "code",
   "execution_count": 11,
   "metadata": {},
   "outputs": [],
   "source": [
    "import numpy as np\n",
    "import pandas as pd\n",
    "import os\n",
    "import re\n",
    "import time\n",
    "import tensorflow as tf\n",
    "import matplotlib.pyplot as plt\n",
    "from sklearn.utils import shuffle\n",
    "from sklearn.model_selection import train_test_split\n",
    "from _utils import u_constant\n",
    "path = u_constant.PATH_ROOT + \"for learn/Python/NLP_in_Action/chapter-8/sentiment-analysis/\""
   ]
  },
  {
   "cell_type": "markdown",
   "metadata": {},
   "source": [
    "## 1. 读取词典"
   ]
  },
  {
   "cell_type": "code",
   "execution_count": 4,
   "metadata": {},
   "outputs": [],
   "source": [
    "def load_word_data():\n",
    "    word_list = np.load(path + \"wordsList.npy\")\n",
    "    word_list = [word.decode(\"utf-8\") for word in word_list]\n",
    "    return word_list  "
   ]
  },
  {
   "cell_type": "code",
   "execution_count": 5,
   "metadata": {},
   "outputs": [
    {
     "name": "stdout",
     "output_type": "stream",
     "text": [
      "400000\n"
     ]
    }
   ],
   "source": [
    "word_list = load_word_data()\n",
    "print(len(word_list))"
   ]
  },
  {
   "cell_type": "code",
   "execution_count": 6,
   "metadata": {},
   "outputs": [],
   "source": [
    "# 有重复元素 '0'\n",
    "word_map = {word: index for index, word in enumerate(word_list)}  # key: word, value: word_index\n",
    "# len(word_map)  # 399999"
   ]
  },
  {
   "cell_type": "markdown",
   "metadata": {},
   "source": [
    "## 2. 原始数据处理，生成TF训练样本"
   ]
  },
  {
   "cell_type": "markdown",
   "metadata": {},
   "source": [
    "### 2.1 数据读取"
   ]
  },
  {
   "cell_type": "code",
   "execution_count": 10,
   "metadata": {},
   "outputs": [],
   "source": [
    "def load_corpus():\n",
    "    \"\"\"\n",
    "    读取文件夹下的训练样本文件，并整合为一个完整的数据集\n",
    "    \"\"\"\n",
    "    result = []\n",
    "    for _type in [\"neg\", \"pos\"]:\n",
    "        label = 1 if _type == \"pos\" else 0\n",
    "        folder_path = path + _type + \"/\"\n",
    "        files = [folder_path + file for file in os.listdir(folder_path) if os.path.isfile(folder_path + file)]\n",
    "        for file in files:\n",
    "            with open(file, \"r\", encoding=\"utf-8\") as f:\n",
    "                text = \" \".join(f.readlines()).strip()\n",
    "                words_num = len(text.split())\n",
    "                result.append((text, words_num, label))\n",
    "                f.close()\n",
    "        print(\"Load %s finished!\" % _type)\n",
    "    \n",
    "    return pd.DataFrame(result, columns=[\"text\", \"words_num\", \"label\"])        "
   ]
  },
  {
   "cell_type": "code",
   "execution_count": 11,
   "metadata": {},
   "outputs": [
    {
     "name": "stdout",
     "output_type": "stream",
     "text": [
      "Load neg finished!\n",
      "Load pos finished!\n",
      "                                                text  words_num  label\n",
      "0  Story of a man who has unnatural feelings for ...        112      0\n",
      "1  Airport '77 starts as a brand new luxury 747 p...        801      0\n",
      "2  This film lacked something I couldn't put my f...        141      0\n",
      "3  Sorry everyone,,, I know this is supposed to b...        154      0\n",
      "4  When I was little my parents took me along to ...        395      0\n",
      "1    12500\n",
      "0    12500\n",
      "Name: label, dtype: int64\n"
     ]
    }
   ],
   "source": [
    "data = load_corpus()\n",
    "print(data[:5])\n",
    "print(data[\"label\"].value_counts())\n",
    "data[[\"text\", \"label\"]].to_csv(path + \"data.txt\", index=False, sep=\"\\t\")"
   ]
  },
  {
   "cell_type": "markdown",
   "metadata": {},
   "source": [
    "### 2.2 探查词数分布"
   ]
  },
  {
   "cell_type": "code",
   "execution_count": 47,
   "metadata": {},
   "outputs": [
    {
     "data": {
      "image/png": "[encoded data removed]",
      "text/plain": [
       "<Figure size 432x288 with 1 Axes>"
      ]
     },
     "metadata": {},
     "output_type": "display_data"
    }
   ],
   "source": [
    "plt.hist(data[\"words_num\"], bins=50)\n",
    "plt.xlabel(\"word num\")\n",
    "plt.ylabel(\"freq\")\n",
    "plt.xlim(0, 1200)\n",
    "plt.ylim(0, 8000)\n",
    "plt.show()"
   ]
  },
  {
   "cell_type": "markdown",
   "metadata": {},
   "source": [
    "### 2.3 生成索引矩阵"
   ]
  },
  {
   "cell_type": "code",
   "execution_count": 13,
   "metadata": {},
   "outputs": [],
   "source": [
    "PATTERN = re.compile(\"[^A-Za-z0-9 ]+\")\n",
    "MAX_SEQ_LEN = 300\n",
    "UNK_ID = 0"
   ]
  },
  {
   "cell_type": "code",
   "execution_count": 16,
   "metadata": {},
   "outputs": [],
   "source": [
    "class MAT_Generator:\n",
    "    \n",
    "    def __init__(self, word_map, clean_pattern, max_seq_len, unk_id):\n",
    "        self.word_map = word_map\n",
    "        self.pattern = re.compile(clean_pattern)\n",
    "        self.max_seq_len = max_seq_len\n",
    "        self.unk_id = unk_id\n",
    "    \n",
    "    def clean_sentence(self, string):\n",
    "        \"\"\"\n",
    "        清洗句子\n",
    "        \"\"\"\n",
    "        string = string.lower().replace(\"<br />\", \" \")\n",
    "        return self.pattern.sub(\"\", string)\n",
    "    \n",
    "    def generate(self, texts):\n",
    "        \"\"\"\n",
    "        为语料生成词索引矩阵\n",
    "        :param texts: 语料集\n",
    "        :return: 索引矩阵 (#texts, max_seq_len)\n",
    "        \"\"\"\n",
    "        num_files = len(texts)\n",
    "        # 矩阵初始化，全部元素都为缺省索引\n",
    "        ids = np.full((num_files, self.max_seq_len), self.unk_id, dtype=np.int32)\n",
    "        \n",
    "        # 逐样本遍历\n",
    "        for i, text in enumerate(texts):\n",
    "            clean_text = self.clean_sentence(text)\n",
    "            # 逐词遍历\n",
    "            for j, word in enumerate(clean_text.split()):\n",
    "                if j >= self.max_seq_len:\n",
    "                    break\n",
    "                try:\n",
    "                    ids[i][j] = word_map[word]\n",
    "                except KeyError:\n",
    "                    pass\n",
    "        return ids"
   ]
  },
  {
   "cell_type": "code",
   "execution_count": 17,
   "metadata": {},
   "outputs": [
    {
     "name": "stdout",
     "output_type": "stream",
     "text": [
      "(25000, 300)\n",
      "[[    91 201534   2807 ...      0      0      0]\n",
      " [     7    353    297 ...      0      0      0]\n",
      " [    58      3     64 ...      0      0      0]\n",
      " ...\n",
      " [    36   4855    102 ...      0      0      0]\n",
      " [  3202    192   1533 ...    285    518      7]\n",
      " [    37   1005     14 ...      0      0      0]]\n",
      "[[0 1]\n",
      " [0 1]\n",
      " [0 1]\n",
      " [0 1]\n",
      " [1 0]\n",
      " [1 0]\n",
      " [0 1]\n",
      " [0 1]\n",
      " [1 0]\n",
      " [0 1]]\n"
     ]
    }
   ],
   "source": [
    "# 打乱顺序\n",
    "def one_hot(x, cate_num=None):\n",
    "    \"\"\"\n",
    "    对一维数组进行one-hot\n",
    "    :param cate_num: 类别数\n",
    "    \"\"\"\n",
    "    x = np.asarray(x).astype(int)\n",
    "    size = cate_num if cate_num is not None else max(x)\n",
    "    return (np.arange(size) == x[:, np.newaxis]).astype(int)\n",
    "texts = data[\"text\"].values\n",
    "labels = one_hot(data[\"label\"].values, 2)\n",
    "texts, labels = shuffle(texts, labels)\n",
    "\n",
    "generator = MAT_Generator(word_map=word_map, clean_pattern=PATTERN, max_seq_len=MAX_SEQ_LEN, unk_id=UNK_ID)\n",
    "ids_mat = generator.generate(texts)\n",
    "\n",
    "print(ids_mat.shape)\n",
    "print(ids_mat[:10])\n",
    "print(labels[:10])\n",
    "np.save(path + \"ids_mat\", ids_mat)\n",
    "np.save(path + \"labels\", labels)"
   ]
  },
  {
   "cell_type": "markdown",
   "metadata": {},
   "source": [
    "## 3. TF训练"
   ]
  },
  {
   "cell_type": "markdown",
   "metadata": {},
   "source": [
    "### 3.1 构建BATCH生成方法"
   ]
  },
  {
   "cell_type": "code",
   "execution_count": 13,
   "metadata": {},
   "outputs": [
    {
     "name": "stdout",
     "output_type": "stream",
     "text": [
      "22500\n"
     ]
    }
   ],
   "source": [
    "ids_mat = np.load(path + \"ids_mat.npy\")\n",
    "labels = np.load(path + \"labels.npy\")\n",
    "word_vectors = np.load(path + \"wordVectors.npy\")\n",
    "X_train, X_test, y_train, y_test = train_test_split(ids_mat, labels, test_size=0.1, random_state=0)\n",
    "print(len(X_train))"
   ]
  },
  {
   "cell_type": "code",
   "execution_count": 15,
   "metadata": {},
   "outputs": [
    {
     "name": "stderr",
     "output_type": "stream",
     "text": [
      "C:\\ProgramData\\Anaconda3\\lib\\site-packages\\tensorflow\\python\\ops\\gradients_impl.py:96: UserWarning: Converting sparse IndexedSlices to a dense Tensor of unknown shape. This may consume a large amount of memory.\n",
      "  \"Converting sparse IndexedSlices to a dense Tensor of unknown shape. \"\n"
     ]
    }
   ],
   "source": [
    "batch_size = 32\n",
    "lstm_units = 64\n",
    "NUM_LABELS = 2\n",
    "MAX_SEQ_LEN = 300\n",
    "lr = 0.001\n",
    "epochs = 100\n",
    "\n",
    "tf.reset_default_graph()\n",
    "train_graph = tf.Graph()\n",
    "\n",
    "with train_graph.as_default():    \n",
    "    X = tf.placeholder(dtype=tf.int32, shape=[None, MAX_SEQ_LEN], name=\"inputs\")\n",
    "    y_ = tf.placeholder(dtype=tf.int32, shape=[None, NUM_LABELS], name=\"labels\")\n",
    "    \n",
    "    embed = tf.nn.embedding_lookup(word_vectors, X, name=\"embedded_vectors\")\n",
    "    \n",
    "    lstmCell = tf.contrib.rnn.BasicLSTMCell(num_units=lstm_units, activation=tf.nn.tanh)\n",
    "    lstmCell = tf.contrib.rnn.DropoutWrapper(cell=lstmCell, output_keep_prob=0.75)\n",
    "    # RNN output: shape: [batch_size, max_seq_len, cell_num]\n",
    "    value, _ = tf.nn.dynamic_rnn(cell=lstmCell, inputs=embed, dtype=tf.float32)\n",
    "    # [lstm_units, num_labels]\n",
    "    weight = tf.Variable(initial_value=tf.truncated_normal([lstm_units, NUM_LABELS]))\n",
    "    # [-1, num_labels]\n",
    "    bias = tf.Variable(tf.constant(0.1, shape=[1, NUM_LABELS]))\n",
    "    # [max_seq_len, batch_size, lstm_units]\n",
    "    value = tf.transpose(value, [1, 0, 2])  \n",
    "    \n",
    "    # 取最后一个输出 [batch_size, lstm_units]\n",
    "    last = tf.gather(params=value, indices=int(value.get_shape()[0] - 1), axis=0)  \n",
    "    \n",
    "    y = last @ weight + bias  # logit 不用 softmax进行计算，都包裹在cross_entropy_with_logit中了\n",
    "    correct_pred = tf.equal(tf.argmax(y, axis=1), tf.argmax(y_, axis=1))\n",
    "    accuracy = tf.reduce_mean(tf.cast(correct_pred, dtype=tf.float32), name=\"ACC\")\n",
    "    \n",
    "    loss = tf.reduce_mean(tf.nn.softmax_cross_entropy_with_logits(logits=y, labels=y_))\n",
    "    \n",
    "    optimizer = tf.train.AdamOptimizer(learning_rate=lr).minimize(loss)\n",
    "    saver = tf.train.Saver()\n",
    "    \n",
    "    tf.summary.scalar(\"Loss\", loss)\n",
    "    tf.summary.scalar(\"ACC\", accuracy)\n",
    "    merged = tf.summary.merge_all()\n",
    "    \n",
    "      "
   ]
  },
  {
   "cell_type": "code",
   "execution_count": 16,
   "metadata": {},
   "outputs": [],
   "source": [
    "def generate_batch(X, y, batch_size):\n",
    "    \"\"\"\n",
    "    生成batch\n",
    "    \"\"\"\n",
    "    assert len(X) == len(y), \"features num doesn't match labels num!\"\n",
    "    total_length = (len(y) // batch_size) * batch_size\n",
    "    X = X[:total_length]\n",
    "    y = y[:total_length]\n",
    "    \n",
    "    for curr in range(0, total_length, batch_size):\n",
    "        batchx = X[curr : curr + batch_size]\n",
    "        batchy = y[curr : curr + batch_size]\n",
    "        yield batchx, batchy    \n",
    "        \n",
    "def get_iternum_from_ckpt(ckpt_path):\n",
    "    with open(ckpt_path + \"checkpoint\", \"r\", encoding=\"utf-8\") as f:\n",
    "        model_info = f.__next__().strip().rstrip('\"')\n",
    "        iters = model_info.split(\".ckpt-\")[1]\n",
    "        return int(iters)"
   ]
  },
  {
   "cell_type": "code",
   "execution_count": null,
   "metadata": {},
   "outputs": [
    {
     "name": "stdout",
     "output_type": "stream",
     "text": [
      "INFO:tensorflow:Restoring parameters from F:/for learn/Python/NLP_in_Action/chapter-8/sentiment-analysis/models/lstm.ckpt-2200\n",
      "Iterations: 2200  Avg. Train_loss: 0.0066  0.0209 sec / batch test acc iter 2200: 0.5232\n",
      "Iterations: 2300  Avg. Train_loss: 0.6774  0.5414 sec / batch test acc iter 2300: 0.5248\n",
      "Iterations: 2400  Avg. Train_loss: 0.6551  0.6282 sec / batch test acc iter 2400: 0.5972\n",
      "Iterations: 2500  Avg. Train_loss: 0.6606  0.6417 sec / batch test acc iter 2500: 0.6952\n",
      "Iterations: 2600  Avg. Train_loss: 0.6524  0.5684 sec / batch test acc iter 2600: 0.5316\n",
      "Iterations: 2700  Avg. Train_loss: 0.6720  0.6098 sec / batch test acc iter 2700: 0.5664\n"
     ]
    }
   ],
   "source": [
    "config = tf.ConfigProto()\n",
    "config.gpu_options.per_process_gpu_memory_fraction = 0.8  # 程序最多只能占用指定gpu70%的显存\n",
    "config.gpu_options.allow_growth = True      #程序按需申请内存\n",
    "log_path = u_constant.PATH_ROOT + \"board/lstm/\"\n",
    "ckpt_path = path + \"models/\"\n",
    "\n",
    "with tf.Session(graph=train_graph, config=config) as sess:\n",
    "    sess.graph.finalize()\n",
    "    train_writer = tf.summary.FileWriter(log_path + \"train\", graph=sess.graph)\n",
    "    test_writer = tf.summary.FileWriter(log_path + \"test\") \n",
    "    \n",
    "    if os.path.exists(ckpt_path) and os.path.exists(ckpt_path + \"checkpoint\"):\n",
    "        saver.restore(sess, tf.train.latest_checkpoint(ckpt_path))\n",
    "        iteration = get_iternum_from_ckpt(ckpt_path)\n",
    "    else:\n",
    "        sess.run(tf.global_variables_initializer())\n",
    "        iteration = 1\n",
    "    start = time.time()\n",
    "    avg_loss = 0\n",
    "    for epoch in range(epochs):\n",
    "        train_batches = generate_batch(X_train, y_train, batch_size=batch_size)\n",
    "        for batch_x, batch_y in train_batches:\n",
    "            summary, _, train_loss = sess.run([merged, optimizer, loss], \n",
    "                                                  feed_dict={X: batch_x, y_: batch_y})\n",
    "            avg_loss += train_loss \n",
    "            \n",
    "            if iteration % 10 == 9: # 每 100次记录到 train中\n",
    "                train_writer.add_summary(summary, iteration)              \n",
    "            if iteration % 100 == 0: # 每 1000次输出训练进度结果并保存模型\n",
    "                end = time.time()\n",
    "                summary, acc = sess.run([merged, accuracy], \n",
    "                                        feed_dict={X: X_test, y_: y_test})\n",
    "                test_writer.add_summary(summary, iteration)\n",
    "                print(\"Iterations: %d \" % (iteration), \n",
    "                      \"Avg. Train_loss: %.4f \" % (avg_loss / 100), \n",
    "                      \"%.4f sec / batch\" % ((end - start) / 100), \n",
    "                      \"test acc iter %d: %.4f\" % (iteration, acc))\n",
    "                \n",
    "                save_path = saver.save(sess, path + \"models/lstm.ckpt\", global_step=iteration)\n",
    "                avg_loss = 0\n",
    "                start = time.time()\n",
    "            \n",
    "            iteration += 1\n",
    "train_writer.close()\n",
    "test_writer.close() "
   ]
  }
 ],
 "metadata": {
  "kernelspec": {
   "display_name": "Python 3",
   "language": "python",
   "name": "python3"
  },
  "language_info": {
   "codemirror_mode": {
    "name": "ipython",
    "version": 3
   },
   "file_extension": ".py",
   "mimetype": "text/x-python",
   "name": "python",
   "nbconvert_exporter": "python",
   "pygments_lexer": "ipython3",
   "version": "3.6.5"
  }
 },
 "nbformat": 4,
 "nbformat_minor": 2
}
