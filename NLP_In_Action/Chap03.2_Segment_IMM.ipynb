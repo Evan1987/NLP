{
 "cells": [
  {
   "cell_type": "markdown",
   "metadata": {},
   "source": [
    "# 1. 规则分词"
   ]
  },
  {
   "cell_type": "markdown",
   "metadata": {},
   "source": [
    "## 逆向最大匹配（Reverse Matching Method）"
   ]
  },
  {
   "cell_type": "code",
   "execution_count": 6,
   "metadata": {},
   "outputs": [],
   "source": [
    "class IMM:\n",
    "    \"\"\"\n",
    "    主要参数，字典的位置\n",
    "    \"\"\"\n",
    "    def __init__(self, dic_path):\n",
    "        \"\"\"\n",
    "        得到字典（集合）和最大可匹配长度\n",
    "        \"\"\"\n",
    "        self.dictionary = set()\n",
    "        self.maximum = 0\n",
    "        \n",
    "        # 读取词典，并加载进集合中，同时敲定最大匹配长度\n",
    "        with open(dic_path, mode=\"r\", encoding=\"UTF-8\") as f:\n",
    "            for line in f:\n",
    "                line = line.strip()\n",
    "                line_length = len(line)\n",
    "                if line_length > 0:\n",
    "                    self.dictionary.add(line)\n",
    "                    if line_length > self.maximum:\n",
    "                        self.maximum = line_length               \n",
    "    \n",
    "    def cut(self, text):\n",
    "        \"\"\"\n",
    "        分词函数\n",
    "        \"\"\"\n",
    "        result = []\n",
    "        index = len(text)\n",
    "        # index 是当前分词末端在 text中的位置\n",
    "        while index > 0:\n",
    "            word = None\n",
    "            # size 是当前匹配长度， 从最大可匹配长度开始\n",
    "            for size in range(self.maximum, 0, -1):\n",
    "                if size > index:\n",
    "                    continue\n",
    "                piece = text[index - size: index]\n",
    "                if piece in self.dictionary:\n",
    "                    word = piece\n",
    "                    result.append(word)\n",
    "                    index -= size\n",
    "                    break\n",
    "            \n",
    "            # 如果最终没有词可匹配，则按字（size = 1）进行截取返回\n",
    "            if word is None:\n",
    "                size = 1\n",
    "                word = text[index - size: index]\n",
    "                result.append(word)\n",
    "                index -= size\n",
    "        # 最后对 result反序\n",
    "        return result[::-1]"
   ]
  },
  {
   "cell_type": "code",
   "execution_count": 13,
   "metadata": {},
   "outputs": [],
   "source": [
    "path = \"F:/for learn/Python/NLP_in_Action/\"\n",
    "model_path = path + \"chapter-3/data/imm_dic.utf8\"\n",
    "tokenizer = IMM(model_path)"
   ]
  },
  {
   "cell_type": "code",
   "execution_count": 16,
   "metadata": {},
   "outputs": [
    {
     "name": "stdout",
     "output_type": "stream",
     "text": [
      "{'人名解放军', '长江大桥', '南京市长', '南京市', '大桥'}\n"
     ]
    }
   ],
   "source": [
    "print(tokenizer.dictionary)"
   ]
  },
  {
   "cell_type": "code",
   "execution_count": 15,
   "metadata": {},
   "outputs": [
    {
     "data": {
      "text/plain": [
       "['南京市', '的', '长江大桥']"
      ]
     },
     "execution_count": 15,
     "metadata": {},
     "output_type": "execute_result"
    }
   ],
   "source": [
    "text = \"南京市的长江大桥\"\n",
    "tokenizer.cut(text)"
   ]
  }
 ],
 "metadata": {
  "kernelspec": {
   "display_name": "Python 3",
   "language": "python",
   "name": "python3"
  },
  "language_info": {
   "codemirror_mode": {
    "name": "ipython",
    "version": 3
   },
   "file_extension": ".py",
   "mimetype": "text/x-python",
   "name": "python",
   "nbconvert_exporter": "python",
   "pygments_lexer": "ipython3",
   "version": "3.6.5"
  }
 },
 "nbformat": 4,
 "nbformat_minor": 2
}
