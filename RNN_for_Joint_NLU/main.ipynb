{
 "cells": [
  {
   "cell_type": "code",
   "execution_count": 45,
   "metadata": {},
   "outputs": [],
   "source": [
    "import tensorflow as tf\n",
    "import numpy as np\n",
    "import os\n",
    "import _Data\n",
    "import _Model \n",
    "import time\n",
    "from _utils import u_constant\n",
    "path = u_constant.PATH_ROOT + \"for learn/Python/RNN-for-Joint-NLU/\"\n",
    "train_data_path = path + \"dataset/atis-2.train.w-intent.iob\"\n",
    "test_data_path = path + \"dataset/atis-2.dev.w-intent.iob\"\n",
    "model_path = path + \"model/\""
   ]
  },
  {
   "cell_type": "code",
   "execution_count": 50,
   "metadata": {},
   "outputs": [
    {
     "data": {
      "text/plain": [
       "<module '_Data' from 'C:\\\\Users\\\\Cigar\\\\Documents\\\\jupyter\\\\NLP_learn\\\\RNN_for_Joint_NLU\\\\_Data.py'>"
      ]
     },
     "execution_count": 50,
     "metadata": {},
     "output_type": "execute_result"
    }
   ],
   "source": [
    "imp.reload(_Model)\n",
    "imp.reload(_Data)"
   ]
  },
  {
   "cell_type": "code",
   "execution_count": 51,
   "metadata": {},
   "outputs": [
    {
     "ename": "AttributeError",
     "evalue": "'DataUtils' object has no attribute 're'",
     "output_type": "error",
     "traceback": [
      "\u001b[1;31m---------------------------------------------------------------------------\u001b[0m",
      "\u001b[1;31mAttributeError\u001b[0m                            Traceback (most recent call last)",
      "\u001b[1;32m<ipython-input-51-3e04afeb18e6>\u001b[0m in \u001b[0;36m<module>\u001b[1;34m()\u001b[0m\n\u001b[0;32m      1\u001b[0m \u001b[0mdata_info\u001b[0m \u001b[1;33m=\u001b[0m \u001b[0m_Data\u001b[0m\u001b[1;33m.\u001b[0m\u001b[0mDataUtils\u001b[0m\u001b[1;33m(\u001b[0m\u001b[0mtrain_data_path\u001b[0m\u001b[1;33m,\u001b[0m \u001b[0mtest_data_path\u001b[0m\u001b[1;33m,\u001b[0m \u001b[0mlength\u001b[0m\u001b[1;33m=\u001b[0m\u001b[1;36m50\u001b[0m\u001b[1;33m)\u001b[0m\u001b[1;33m\u001b[0m\u001b[0m\n\u001b[1;32m----> 2\u001b[1;33m \u001b[0mdata_info\u001b[0m\u001b[1;33m.\u001b[0m\u001b[0mre\u001b[0m\u001b[1;33m\u001b[0m\u001b[0m\n\u001b[0m",
      "\u001b[1;31mAttributeError\u001b[0m: 'DataUtils' object has no attribute 're'"
     ]
    }
   ],
   "source": [
    "data_info = _Data.DataUtils(train_data_path, test_data_path, length=50)"
   ]
  },
  {
   "cell_type": "code",
   "execution_count": 37,
   "metadata": {},
   "outputs": [],
   "source": [
    "input_length = data_info.length  # 50\n",
    "embedding_size = 64\n",
    "hidden_size = 100\n",
    "n_layers = 2\n",
    "batch_size = 16\n",
    "vocab_size = len(data_info.word2index)  # 871\n",
    "slot_size = len(data_info.tag2index)  # 124\n",
    "intent_size = len(data_info.intent2index)  # 22\n",
    "epoch_num = 60"
   ]
  },
  {
   "cell_type": "code",
   "execution_count": 38,
   "metadata": {},
   "outputs": [],
   "source": [
    "indexed_train_data  = data_info.to_index(data_info.train_data)  # 4478\n",
    "indexed_test_data = data_info.to_index(data_info.test_data)  # 500"
   ]
  },
  {
   "cell_type": "code",
   "execution_count": 28,
   "metadata": {},
   "outputs": [],
   "source": [
    "model = _Model.Model(input_length, embedding_size, hidden_size, vocab_size, \n",
    "                     slot_size, intent_size, batch_size)"
   ]
  },
  {
   "cell_type": "code",
   "execution_count": null,
   "metadata": {},
   "outputs": [],
   "source": [
    "tf.reset_default_graph()\n",
    "config = tf.ConfigProto()\n",
    "config.gpu_options.per_process_gpu_memory_fraction = 0.8  # 程序最多只能占用指定gpu80%的显存\n",
    "config.gpu_options.allow_growth = True      #程序按需申请内存"
   ]
  },
  {
   "cell_type": "code",
   "execution_count": null,
   "metadata": {},
   "outputs": [],
   "source": [
    "def get_iternum_from_ckpt(ckpt_path):\n",
    "    iters = ckpt_path.split(\".ckpt-\")[1]\n",
    "    return int(iters)"
   ]
  },
  {
   "cell_type": "code",
   "execution_count": null,
   "metadata": {},
   "outputs": [],
   "source": [
    "with tf.Session(graph=model.graph, config=config) as sess:\n",
    "    ckpt = tf.train.get_checkpoint_state(model_path)\n",
    "    if ckpt is not None:\n",
    "        ckpt_path = ckpt.model_checkpoint_path\n",
    "        model.saver.restore(sess, ckpt_path)\n",
    "        iteration = get_iternum_from_ckpt(ckpt_path)\n",
    "    else:\n",
    "        sess.run(tf.global_variables_initializer())\n",
    "        iteration = 1\n",
    "    start = time.time()\n",
    "    avg_loss = 0.0\n",
    "    for epoch in range(epoch_num):\n",
    "        for batch in data_info.get_batch(batch_size):\n",
    "            # 执行一个 batch 的训练\n",
    "            _, loss, decoder_prediction, intent, mask, slot_w = model.step(sess, \"train\", batch)\n",
    "            avg_loss += loss\n",
    "            if iteration % 100 == 0:\n",
    "                end = time.time()\n",
    "                print(\"Iteration: %d \" % iteration, \n",
    "                      \"Avg. Train_loss: %.4f\" % (avg_loss / 100),\n",
    "                      \"%.4f sec / batch\" % ((end - start) / 100))\n",
    "                start = time.time()\n",
    "                avg_loss = 0.0\n",
    "            iteration += 1\n",
    "        # 每个 epoch保存一次模型, 并测试\n",
    "        model.saver.save(sess, model_path + \"/seq2seq.ckpt\", global_step=iteration)\n",
    "        pred_slots = []\n",
    "        slot_accs = []\n",
    "        intent_accs = []\n",
    "        decoder_prediction, intent = model.step(sess, \"test\", indexed_test_data)\n",
    "        decoder_prediction = np.transpose(decoder_prediction, [1, 0])\n",
    "        # 随机选出一个样本打印\n",
    "        index = random.choice(range(len(indexed_test_data)))\n",
    "        _sin, _true_length, _sout, _intent = indexed_test_data[index]\n",
    "        print(\"Input Sentence   :\",\\\n",
    "              data_info.recover_indexed_seq(_sin, \"word\")[:_true_length])\n",
    "        print(\"Slot Truth       :\",\\\n",
    "              data_info.recover_indexed_seq(_sout, \"slot\")[:_true_length])\n",
    "        print(\"Slot Pred        :\",\\\n",
    "              data_info.recover_indexed_seq(decoder_prediction[index], \"slot\")[:_true_length])\n",
    "        print(\"Intent Truth     :\", data_info.index2intent(_intent))\n",
    "        print(\"Intent Pred      :\", data_info.index2intent(intent[index]))\n",
    "        \n",
    "        \n",
    "        \n",
    "        \n",
    "        \n",
    "    "
   ]
  },
  {
   "cell_type": "code",
   "execution_count": null,
   "metadata": {},
   "outputs": [],
   "source": []
  }
 ],
 "metadata": {
  "kernelspec": {
   "display_name": "Python 3",
   "language": "python",
   "name": "python3"
  },
  "language_info": {
   "codemirror_mode": {
    "name": "ipython",
    "version": 3
   },
   "file_extension": ".py",
   "mimetype": "text/x-python",
   "name": "python",
   "nbconvert_exporter": "python",
   "pygments_lexer": "ipython3",
   "version": "3.6.5"
  }
 },
 "nbformat": 4,
 "nbformat_minor": 2
}
